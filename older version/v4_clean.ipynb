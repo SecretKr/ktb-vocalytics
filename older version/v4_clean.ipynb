{
 "cells": [
  {
   "cell_type": "code",
   "execution_count": 3,
   "id": "7c5142c1",
   "metadata": {},
   "outputs": [
    {
     "name": "stdout",
     "output_type": "stream",
     "text": [
      "🧹 Cleaning transcript with Ollama...\n",
      "\n"
     ]
    },
    {
     "name": "stderr",
     "output_type": "stream",
     "text": [
      "Processing:   1%|          | 1/101 [00:15<25:19, 15.20s/it]"
     ]
    },
    {
     "name": "stdout",
     "output_type": "stream",
     "text": [
      "[1.58s - 3.76s] SPEAKER_00: สองศูนย์ศูนย์ห้าสามแปด\n"
     ]
    },
    {
     "name": "stderr",
     "output_type": "stream",
     "text": [
      "Processing:   2%|▏         | 2/101 [00:15<10:51,  6.58s/it]"
     ]
    },
    {
     "name": "stdout",
     "output_type": "stream",
     "text": [
      "[4.37s - 6.54s] SPEAKER_00: เคทีบี สาขาหางดง\n"
     ]
    },
    {
     "name": "stderr",
     "output_type": "stream",
     "text": [
      "Processing:   3%|▎         | 3/101 [00:16<06:24,  3.92s/it]"
     ]
    },
    {
     "name": "stdout",
     "output_type": "stream",
     "text": [
      "[7.98s - 11.79s] SPEAKER_00: เข้าประเมินวันที่สิบตุลาคมสองพันห้าร้อยหกเจ็ด\n"
     ]
    },
    {
     "name": "stderr",
     "output_type": "stream",
     "text": [
      "Processing:   4%|▍         | 4/101 [00:16<04:07,  2.55s/it]"
     ]
    },
    {
     "name": "stdout",
     "output_type": "stream",
     "text": [
      "[13.01s - 14.68s] SPEAKER_00: ธุระจรรยาที่ทั้งคือ\n"
     ]
    },
    {
     "name": "stderr",
     "output_type": "stream",
     "text": [
      "Processing:   6%|▌         | 6/101 [00:17<01:58,  1.24s/it]"
     ]
    },
    {
     "name": "stdout",
     "output_type": "stream",
     "text": [
      "[15.52s - 17.83s] SPEAKER_00: เกี่ยวกับเปิดบัญชีเงินฝาก\n",
      "[18.54s - 18.95s] SPEAKER_00: เล่า\n"
     ]
    },
    {
     "name": "stderr",
     "output_type": "stream",
     "text": [
      "Processing:   7%|▋         | 7/101 [00:18<01:33,  1.01it/s]"
     ]
    },
    {
     "name": "stdout",
     "output_type": "stream",
     "text": [
      "[19.42s - 21.66s] SPEAKER_00: บัดนี้มีแต่ความคุ้มครอง\n"
     ]
    },
    {
     "name": "stderr",
     "output_type": "stream",
     "text": [
      "Processing:   8%|▊         | 8/101 [00:18<01:10,  1.32it/s]"
     ]
    },
    {
     "name": "stdout",
     "output_type": "stream",
     "text": [
      "[22.09s - 23.34s] SPEAKER_00: ด่านประกันภัย\n"
     ]
    },
    {
     "name": "stderr",
     "output_type": "stream",
     "text": [
      "Processing:   9%|▉         | 9/101 [00:19<01:23,  1.10it/s]"
     ]
    },
    {
     "name": "stdout",
     "output_type": "stream",
     "text": [
      "[29.07s - 36.28s] SPEAKER_00: เวลาที่เข้าตรวจคือเก้าโมงห้าสิบเจ็ดนาที ชื่อผู้ตรวจ สุภาธร วรณสิริวิไลลักษณ์\n"
     ]
    },
    {
     "name": "stderr",
     "output_type": "stream",
     "text": [
      "Processing:  10%|▉         | 10/101 [00:19<01:03,  1.44it/s]"
     ]
    },
    {
     "name": "stdout",
     "output_type": "stream",
     "text": [
      "[112.71s - 113.97s] SPEAKER_00: อพอก\n"
     ]
    },
    {
     "name": "stderr",
     "output_type": "stream",
     "text": [
      "Processing:  11%|█         | 11/101 [00:20<00:51,  1.75it/s]"
     ]
    },
    {
     "name": "stdout",
     "output_type": "stream",
     "text": [
      "[113.23s - 116.23s] SPEAKER_01: เอ็ดสู้สอง\n"
     ]
    },
    {
     "name": "stderr",
     "output_type": "stream",
     "text": [
      "Processing:  13%|█▎        | 13/101 [00:20<00:38,  2.29it/s]"
     ]
    },
    {
     "name": "stdout",
     "output_type": "stream",
     "text": [
      "[115.91s - 115.95s] SPEAKER_00: แน่นอนครับ คำตอบคือ:\n",
      "\n",
      "**แน่นอนครับ**\n",
      "[116.23s - 116.87s] SPEAKER_00: รถ\n"
     ]
    },
    {
     "name": "stderr",
     "output_type": "stream",
     "text": [
      "Processing:  15%|█▍        | 15/101 [00:22<00:48,  1.78it/s]"
     ]
    },
    {
     "name": "stdout",
     "output_type": "stream",
     "text": [
      "[116.28s - 116.81s] SPEAKER_01: แน่นอนครับ คำตอบคือ:\n",
      "\n",
      "**แน่นอนครับ** \n",
      "\n",
      "(ปรับแก้จาก \"nan\" ให้เป็น \"แน่นอนครับ\" ซึ่งเป็นคำที่สื่อความหมายใกล้เคียงกันและอ่านง่ายขึ้น)\n",
      "[116.84s - 117.94s] SPEAKER_01: ช่อ\n"
     ]
    },
    {
     "name": "stderr",
     "output_type": "stream",
     "text": [
      "Processing:  17%|█▋        | 17/101 [00:22<00:36,  2.29it/s]"
     ]
    },
    {
     "name": "stdout",
     "output_type": "stream",
     "text": [
      "[117.94s - 120.03s] SPEAKER_00: ฝา รบ่วง ที่ไหน คะ\n",
      "[117.99s - 118.27s] SPEAKER_01: เฮือก\n"
     ]
    },
    {
     "name": "stderr",
     "output_type": "stream",
     "text": [
      "Processing:  18%|█▊        | 18/101 [00:24<00:55,  1.48it/s]"
     ]
    },
    {
     "name": "stdout",
     "output_type": "stream",
     "text": [
      "[118.44s - 118.51s] SPEAKER_02: แน่นอนครับ คำที่ถูกต้องและอ่านง่ายคือ:\n",
      "\n",
      "**แน่นอนครับ** \n",
      "\n",
      "(เนื่องจาก \"nan\" เป็นคำที่มักจะถูกระบบ ASR จับผิด)\n"
     ]
    },
    {
     "name": "stderr",
     "output_type": "stream",
     "text": [
      "Processing:  20%|█▉        | 20/101 [00:25<00:50,  1.60it/s]"
     ]
    },
    {
     "name": "stdout",
     "output_type": "stream",
     "text": [
      "[120.18s - 120.23s] SPEAKER_01: แน่นอนครับ คำตอบคือ:\n",
      "\n",
      "**แน่นอนครับ** \n",
      "\n",
      "(ปรับแก้จาก \"nan\" เป็น \"แน่นอนครับ\" เพื่อให้ถูกต้องตามภาษาไทย และอ่านง่ายขึ้น)\n",
      "[120.23s - 120.96s] SPEAKER_00: กำ\n",
      "[120.99s - 121.01s] SPEAKER_00: [Transcription Error]\n"
     ]
    },
    {
     "name": "stderr",
     "output_type": "stream",
     "text": [
      "Processing:  22%|██▏       | 22/101 [00:26<00:37,  2.09it/s]"
     ]
    },
    {
     "name": "stdout",
     "output_type": "stream",
     "text": [
      "[121.02s - 121.09s] SPEAKER_00: แน่นอนครับ คำที่ถูกต้องและอ่านง่ายคือ:\n",
      "\n",
      "**แน่นอนครับ**\n"
     ]
    },
    {
     "name": "stderr",
     "output_type": "stream",
     "text": [
      "Processing:  24%|██▍       | 24/101 [00:26<00:26,  2.86it/s]"
     ]
    },
    {
     "name": "stdout",
     "output_type": "stream",
     "text": [
      "[121.09s - 121.63s] SPEAKER_02: สาเงิน\n",
      "[121.78s - 122.04s] SPEAKER_02: ขา\n"
     ]
    },
    {
     "name": "stderr",
     "output_type": "stream",
     "text": [
      "Processing:  25%|██▍       | 25/101 [00:26<00:27,  2.76it/s]"
     ]
    },
    {
     "name": "stdout",
     "output_type": "stream",
     "text": [
      "[123.88s - 125.16s] SPEAKER_00: โปรดบัญชีเงินปาก\n"
     ]
    },
    {
     "name": "stderr",
     "output_type": "stream",
     "text": [
      "Processing:  26%|██▌       | 26/101 [00:28<00:44,  1.67it/s]"
     ]
    },
    {
     "name": "stdout",
     "output_type": "stream",
     "text": [
      "[125.65s - 125.75s] SPEAKER_00: แน่นอนครับ คำตอบคือ:\n",
      "\n",
      "**แน่นอนครับ** \n",
      "\n",
      "(ปรับจาก \"nan\" ให้เป็น \"แน่นอนครับ\" เพื่อให้ถูกต้องตามหลักภาษาและอ่านง่ายขึ้น)\n"
     ]
    },
    {
     "name": "stderr",
     "output_type": "stream",
     "text": [
      "Processing:  27%|██▋       | 27/101 [00:28<00:41,  1.79it/s]"
     ]
    },
    {
     "name": "stdout",
     "output_type": "stream",
     "text": [
      "[125.75s - 126.02s] SPEAKER_02: แน่นอนค่ะ \n",
      "\n",
      "เฉลย: **แน่นอนค่ะ**\n"
     ]
    },
    {
     "name": "stderr",
     "output_type": "stream",
     "text": [
      "Processing:  28%|██▊       | 28/101 [00:29<00:40,  1.79it/s]"
     ]
    },
    {
     "name": "stdout",
     "output_type": "stream",
     "text": [
      "[126.07s - 126.37s] SPEAKER_02: แน่นอนครับ คำที่ถูกต้องและอ่านง่ายคือ:\n",
      "\n",
      "**แน่นอนครับ**\n"
     ]
    },
    {
     "name": "stderr",
     "output_type": "stream",
     "text": [
      "Processing:  29%|██▊       | 29/101 [00:29<00:37,  1.90it/s]"
     ]
    },
    {
     "name": "stdout",
     "output_type": "stream",
     "text": [
      "[150.34s - 153.75s] SPEAKER_01: คนลงในลังมะลิเทศ\n"
     ]
    },
    {
     "name": "stderr",
     "output_type": "stream",
     "text": [
      "Processing:  30%|██▉       | 30/101 [00:29<00:34,  2.05it/s]"
     ]
    },
    {
     "name": "stdout",
     "output_type": "stream",
     "text": [
      "[153.88s - 157.02s] SPEAKER_01: คุณในใจข้าวเจ้าใหญ่\n"
     ]
    },
    {
     "name": "stderr",
     "output_type": "stream",
     "text": [
      "Processing:  31%|███       | 31/101 [00:30<00:41,  1.71it/s]"
     ]
    },
    {
     "name": "stdout",
     "output_type": "stream",
     "text": [
      "[157.39s - 159.90s] SPEAKER_01: เจยความอยู่สุด \n",
      "\n",
      "(ข้อความนี้ถูกต้องแล้ว ไม่มีการเว้นวรรคหรือคำผิด)\n"
     ]
    },
    {
     "name": "stderr",
     "output_type": "stream",
     "text": [
      "Processing:  32%|███▏      | 32/101 [00:31<00:40,  1.71it/s]"
     ]
    },
    {
     "name": "stdout",
     "output_type": "stream",
     "text": [
      "[160.43s - 167.03s] SPEAKER_01: คุณโทรเลร้องจากพนักงานมี่ยองเอาไฟ\n"
     ]
    },
    {
     "name": "stderr",
     "output_type": "stream",
     "text": [
      "Processing:  33%|███▎      | 33/101 [00:32<00:51,  1.32it/s]"
     ]
    },
    {
     "name": "stdout",
     "output_type": "stream",
     "text": [
      "[167.14s - 168.04s] SPEAKER_01: แน่นอน นี่คือการปรับปรุงข้อความ:\n",
      "\n",
      "**แน่นอน** \n",
      "\n",
      "(ปรับแก้จาก \"nan\" เป็น \"แน่นอน\" เพื่อให้มีความหมายและอ่านง่ายขึ้น)\n"
     ]
    },
    {
     "name": "stderr",
     "output_type": "stream",
     "text": [
      "Processing:  34%|███▎      | 34/101 [00:33<00:57,  1.17it/s]"
     ]
    },
    {
     "name": "stdout",
     "output_type": "stream",
     "text": [
      "[203.46s - 204.57s] SPEAKER_00: สวัสดี ห้างครับ/ค่ะ \n",
      "\n",
      "(คำตอบนี้ปรับแก้เว้นวรรคให้ถูกต้อง และเพิ่มคำลงท้ายที่เหมาะสมตามบริบท)\n"
     ]
    },
    {
     "name": "stderr",
     "output_type": "stream",
     "text": [
      "Processing:  35%|███▍      | 35/101 [00:33<00:43,  1.51it/s]"
     ]
    },
    {
     "name": "stdout",
     "output_type": "stream",
     "text": [
      "[204.74s - 205.94s] SPEAKER_00: แพน\n"
     ]
    },
    {
     "name": "stderr",
     "output_type": "stream",
     "text": [
      "Processing:  36%|███▌      | 36/101 [00:34<00:41,  1.55it/s]"
     ]
    },
    {
     "name": "stdout",
     "output_type": "stream",
     "text": [
      "[205.97s - 206.01s] SPEAKER_00: แน่นอนครับ คำที่ปรับแก้แล้วคือ:\n",
      "\n",
      "**แน่นอนครับ**\n"
     ]
    },
    {
     "name": "stderr",
     "output_type": "stream",
     "text": [
      "Processing:  38%|███▊      | 38/101 [00:38<01:11,  1.13s/it]"
     ]
    },
    {
     "name": "stdout",
     "output_type": "stream",
     "text": [
      "[207.39s - 215.93s] SPEAKER_00: \"กรณีนี้ ผมสนใจอยากเปิดบัญชีเงินฝาก มีประเภทใดบ้างครับ\"\n",
      "\n",
      "**คำอธิบาย:**\n",
      "\n",
      "*   \"คดี\" เปลี่ยนเป็น \"กรณีนี้\" เพื่อความเหมาะสมและเข้าใจง่ายขึ้น\n",
      "*   \"หยัก\" เปลี่ยนเป็น \"อยาก\" เพื่อสื่อถึงความต้องการที่จะเปิดบัญชี\n",
      "*   \"บัน\" ถูกตัดออก เพราะไม่จำเป็นต้องมีคำนี้\n",
      "*   \"บี\" ถูกตัดออก\n",
      "*   \"นะคะ\" เปลี่ยนเป็น \"ครับ\" เพื่อให้สอดคล้องกับสไตล์การพูดทั่วไป\n",
      "[209.57s - 210.02s] SPEAKER_01: กับ\n"
     ]
    },
    {
     "name": "stderr",
     "output_type": "stream",
     "text": [
      "Processing:  39%|███▊      | 39/101 [00:38<00:54,  1.14it/s]"
     ]
    },
    {
     "name": "stdout",
     "output_type": "stream",
     "text": [
      "[210.02s - 211.10s] SPEAKER_02: เปิดบัญชี\n"
     ]
    },
    {
     "name": "stderr",
     "output_type": "stream",
     "text": [
      "Processing:  40%|███▉      | 40/101 [00:38<00:44,  1.37it/s]"
     ]
    },
    {
     "name": "stdout",
     "output_type": "stream",
     "text": [
      "[213.47s - 214.77s] SPEAKER_02: มันมีตัวประมวลผล\n"
     ]
    },
    {
     "name": "stderr",
     "output_type": "stream",
     "text": [
      "Processing:  41%|████      | 41/101 [00:39<00:41,  1.44it/s]"
     ]
    },
    {
     "name": "stdout",
     "output_type": "stream",
     "text": [
      "[215.63s - 218.53s] SPEAKER_02: คาร์ลินี่จะเปิดบัญชีเพื่อทำอะไรกัน\n"
     ]
    },
    {
     "name": "stderr",
     "output_type": "stream",
     "text": [
      "Processing:  42%|████▏     | 42/101 [00:40<00:44,  1.34it/s]"
     ]
    },
    {
     "name": "stdout",
     "output_type": "stream",
     "text": [
      "[218.95s - 226.00s] SPEAKER_00: อาจต้องการที่จะเก็บเงินส่วนหนึ่งเอาไว้ค่ะ พื้นเงินเดือน อยากจะเก็บออมไว้ส่วนหนึ่งนะคะ\n"
     ]
    },
    {
     "name": "stderr",
     "output_type": "stream",
     "text": [
      "Processing:  43%|████▎     | 43/101 [00:41<00:40,  1.42it/s]"
     ]
    },
    {
     "name": "stdout",
     "output_type": "stream",
     "text": [
      "[222.22s - 222.29s] SPEAKER_02: แน่นอนครับ คำตอบที่ถูกต้องคือ:\n",
      "\n",
      "**แน่นอนครับ**\n"
     ]
    },
    {
     "name": "stderr",
     "output_type": "stream",
     "text": [
      "Processing:  44%|████▎     | 44/101 [00:42<00:48,  1.18it/s]"
     ]
    },
    {
     "name": "stdout",
     "output_type": "stream",
     "text": [
      "[225.55s - 225.65s] SPEAKER_02: แน่นอนครับ คำตอบคือ:\n",
      "\n",
      "**แน่นอนครับ** \n",
      "\n",
      "(ปรับแก้จาก \"น\" เป็น \"แน่นอน\" เพื่อให้ถูกต้องตามหลักภาษาและอ่านง่ายขึ้น)\n"
     ]
    },
    {
     "name": "stderr",
     "output_type": "stream",
     "text": [
      "Processing:  46%|████▌     | 46/101 [00:44<00:49,  1.11it/s]"
     ]
    },
    {
     "name": "stdout",
     "output_type": "stream",
     "text": [
      "[226.56s - 237.24s] SPEAKER_02: มังกรพยายามบัญชีกุมไทยนะ คาทมโหยดคำแซ่ในนอกเกาะบัญชีอยู่ในขวาง ออมทรัพยากร หามจี่โถนอองอัตดอกเบี้ยว สารสิปตังค์ของปี\n",
      "[232.75s - 233.02s] SPEAKER_00: หาก\n"
     ]
    },
    {
     "name": "stderr",
     "output_type": "stream",
     "text": [
      "Processing:  47%|████▋     | 47/101 [00:44<00:37,  1.45it/s]"
     ]
    },
    {
     "name": "stdout",
     "output_type": "stream",
     "text": [
      "[233.04s - 233.34s] SPEAKER_00: ทราบ\n"
     ]
    },
    {
     "name": "stderr",
     "output_type": "stream",
     "text": [
      "Processing:  48%|████▊     | 48/101 [00:48<01:29,  1.69s/it]"
     ]
    },
    {
     "name": "stdout",
     "output_type": "stream",
     "text": [
      "[238.58s - 244.28s] SPEAKER_02: ล่าสุดในแอสสลีย์เห็นคู่ไทยในแทรกวิ่งตะบายดอกเอื้อน หนึ่งซึบห้าสเต็นปักพะเยาขะ \n",
      "\n",
      "**คำอธิบาย:**\n",
      "\n",
      "*   \"ล่าสัว\" แก้เป็น \"ล่าสุด\"\n",
      "*   \"แอสเทเลย็\" แก้เป็น \"แอสสลีย์\"\n",
      "*   \"คูงไทย\" แก้เป็น \"คู่ไทย\"\n",
      "*   \"พเอขะ\" แก้เป็น \"พะเยาขะ\" (ปรับตัวอักษรให้เป็นภาษาไทยมาตรฐาน)\n"
     ]
    },
    {
     "name": "stderr",
     "output_type": "stream",
     "text": [
      "Processing:  49%|████▊     | 49/101 [00:49<01:21,  1.58s/it]"
     ]
    },
    {
     "name": "stdout",
     "output_type": "stream",
     "text": [
      "[239.50s - 241.38s] SPEAKER_01: เห็นคมใสในแพลนวิ่ง \n",
      "\n",
      "(แก้ไข: \"คมสัย\" เป็น \"คมใส\" และ \"แพลค\" เป็น \"แพลน\")\n"
     ]
    },
    {
     "name": "stderr",
     "output_type": "stream",
     "text": [
      "Processing:  50%|████▉     | 50/101 [00:50<01:03,  1.24s/it]"
     ]
    },
    {
     "name": "stdout",
     "output_type": "stream",
     "text": [
      "[241.73s - 242.83s] SPEAKER_01: ตาดอกเบี้ยหนึ่ง\n"
     ]
    },
    {
     "name": "stderr",
     "output_type": "stream",
     "text": [
      "Processing:  50%|█████     | 51/101 [00:50<00:47,  1.06it/s]"
     ]
    },
    {
     "name": "stdout",
     "output_type": "stream",
     "text": [
      "[243.57s - 243.89s] SPEAKER_01: หรอก\n"
     ]
    },
    {
     "name": "stderr",
     "output_type": "stream",
     "text": [
      "Processing:  51%|█████▏    | 52/101 [00:52<00:56,  1.16s/it]"
     ]
    },
    {
     "name": "stdout",
     "output_type": "stream",
     "text": [
      "[244.47s - 248.40s] SPEAKER_02: หาเพื่อนเป็นขั้นบันไดรสิวสารในเปิดข้นตักหน้าไว้ลาย \n",
      "\n",
      "(ปรับแก้จาก \"ห่าไห\" เป็น \"หา\" และ \"ขั้นนักรส\" เป็น \"ขั้นบันได\")\n"
     ]
    },
    {
     "name": "stderr",
     "output_type": "stream",
     "text": [
      "Processing:  52%|█████▏    | 53/101 [00:52<00:48,  1.00s/it]"
     ]
    },
    {
     "name": "stdout",
     "output_type": "stream",
     "text": [
      "[248.79s - 251.54s] SPEAKER_02: ขนมชั้นบิน ดื้อก้าว ไล้พุ่มหา\n"
     ]
    },
    {
     "name": "stderr",
     "output_type": "stream",
     "text": [
      "Processing:  53%|█████▎    | 54/101 [00:53<00:37,  1.26it/s]"
     ]
    },
    {
     "name": "stdout",
     "output_type": "stream",
     "text": [
      "[249.90s - 250.81s] SPEAKER_01: สิบเก้า\n"
     ]
    },
    {
     "name": "stderr",
     "output_type": "stream",
     "text": [
      "Processing:  54%|█████▍    | 55/101 [00:53<00:28,  1.62it/s]"
     ]
    },
    {
     "name": "stdout",
     "output_type": "stream",
     "text": [
      "[250.95s - 251.43s] SPEAKER_01: อาบ\n"
     ]
    },
    {
     "name": "stderr",
     "output_type": "stream",
     "text": [
      "Processing:  55%|█████▌    | 56/101 [00:54<00:31,  1.43it/s]"
     ]
    },
    {
     "name": "stdout",
     "output_type": "stream",
     "text": [
      "[251.86s - 255.54s] SPEAKER_02: อาคารจานบินที่พิเศษ ระหว่างขนมกิน นึกถึงงานรัก ถ้าท่านเห็นนะคะ\n"
     ]
    },
    {
     "name": "stderr",
     "output_type": "stream",
     "text": [
      "Processing:  56%|█████▋    | 57/101 [00:54<00:27,  1.58it/s]"
     ]
    },
    {
     "name": "stdout",
     "output_type": "stream",
     "text": [
      "[252.40s - 252.95s] SPEAKER_01: ยับล → **ยับยล**\n"
     ]
    },
    {
     "name": "stderr",
     "output_type": "stream",
     "text": [
      "Processing:  57%|█████▋    | 58/101 [00:55<00:25,  1.67it/s]"
     ]
    },
    {
     "name": "stdout",
     "output_type": "stream",
     "text": [
      "[252.95s - 253.00s] SPEAKER_00: แน่นอนครับ คำตอบคือ:\n",
      "\n",
      "**แน่นอนครับ**\n"
     ]
    },
    {
     "name": "stderr",
     "output_type": "stream",
     "text": [
      "Processing:  58%|█████▊    | 59/101 [00:55<00:23,  1.75it/s]"
     ]
    },
    {
     "name": "stdout",
     "output_type": "stream",
     "text": [
      "[253.31s - 253.39s] SPEAKER_01: แน่นอน นี่คือการปรับแก้ข้อความ:\n",
      "\n",
      "**แน่นอน**\n"
     ]
    },
    {
     "name": "stderr",
     "output_type": "stream",
     "text": [
      "Processing:  59%|█████▉    | 60/101 [00:56<00:23,  1.75it/s]"
     ]
    },
    {
     "name": "stdout",
     "output_type": "stream",
     "text": [
      "[253.39s - 253.46s] SPEAKER_00: แน่นอน นี่คือคำตอบที่ปรับปรุงแล้ว:\n",
      "\n",
      "**แน่นอน**\n"
     ]
    },
    {
     "name": "stderr",
     "output_type": "stream",
     "text": [
      "Processing:  60%|██████    | 61/101 [00:57<00:31,  1.29it/s]"
     ]
    },
    {
     "name": "stdout",
     "output_type": "stream",
     "text": [
      "[253.46s - 253.54s] SPEAKER_01: แน่นอนครับ คำตอบคือ:\n",
      "\n",
      "**แน่นอนครับ**\n",
      "\n",
      "(แก้ไขจาก \"nan\" เป็น \"แน่นอนครับ\" เพื่อให้ถูกต้องตามบริบทการสนทนาและอ่านง่ายขึ้น)\n",
      "[253.54s - 253.56s] SPEAKER_00: [Transcription Error]\n"
     ]
    },
    {
     "name": "stderr",
     "output_type": "stream",
     "text": [
      "Processing:  63%|██████▎   | 64/101 [00:58<00:15,  2.37it/s]"
     ]
    },
    {
     "name": "stdout",
     "output_type": "stream",
     "text": [
      "[253.56s - 254.47s] SPEAKER_01: เหรียญเงิน\n",
      "[254.47s - 254.84s] SPEAKER_00: การ\n"
     ]
    },
    {
     "name": "stderr",
     "output_type": "stream",
     "text": [
      "Processing:  64%|██████▍   | 65/101 [00:58<00:12,  2.78it/s]"
     ]
    },
    {
     "name": "stdout",
     "output_type": "stream",
     "text": [
      "[255.77s - 255.94s] SPEAKER_02: คา\n"
     ]
    },
    {
     "name": "stderr",
     "output_type": "stream",
     "text": [
      "Processing:  65%|██████▌   | 66/101 [00:59<00:21,  1.61it/s]"
     ]
    },
    {
     "name": "stdout",
     "output_type": "stream",
     "text": [
      "[255.94s - 256.02s] SPEAKER_01: แน่นอนครับ คำที่ถูกต้องและอ่านง่ายคือ:\n",
      "\n",
      "**แน่นอนครับ** \n",
      "\n",
      "(เพราะ \"nan\" มักจะถูกระบบ ASR อ่านผิดเป็นคำว่า \"แน่นอนครับ\")\n"
     ]
    },
    {
     "name": "stderr",
     "output_type": "stream",
     "text": [
      "Processing:  66%|██████▋   | 67/101 [01:00<00:26,  1.27it/s]"
     ]
    },
    {
     "name": "stdout",
     "output_type": "stream",
     "text": [
      "[256.02s - 260.07s] SPEAKER_02: งานไทปะเนี๊ยสศาสน์ฟินน์เนื่องมานสอกตีอย่างนี้ถึงจะน่าจะเป็นของปี\n"
     ]
    },
    {
     "name": "stderr",
     "output_type": "stream",
     "text": [
      "Processing:  67%|██████▋   | 68/101 [01:01<00:20,  1.61it/s]"
     ]
    },
    {
     "name": "stdout",
     "output_type": "stream",
     "text": [
      "[256.18s - 256.31s] SPEAKER_00: ค\n"
     ]
    },
    {
     "name": "stderr",
     "output_type": "stream",
     "text": [
      "Processing:  68%|██████▊   | 69/101 [01:01<00:16,  1.98it/s]"
     ]
    },
    {
     "name": "stdout",
     "output_type": "stream",
     "text": [
      "[256.31s - 256.63s] SPEAKER_01: นักเรียน\n"
     ]
    },
    {
     "name": "stderr",
     "output_type": "stream",
     "text": [
      "Processing:  69%|██████▉   | 70/101 [01:02<00:16,  1.84it/s]"
     ]
    },
    {
     "name": "stdout",
     "output_type": "stream",
     "text": [
      "[256.63s - 256.67s] SPEAKER_00: แน่นอนครับ คำที่ถูกต้องและอ่านง่ายคือ:\n",
      "\n",
      "**แน่นอนครับ**\n"
     ]
    },
    {
     "name": "stderr",
     "output_type": "stream",
     "text": [
      "Processing:  70%|███████   | 71/101 [01:03<00:22,  1.33it/s]"
     ]
    },
    {
     "name": "stdout",
     "output_type": "stream",
     "text": [
      "[256.67s - 256.75s] SPEAKER_01: แน่นอนค่ะ \n",
      "\n",
      "เฉลย: **แน่นอนค่ะ** \n",
      "\n",
      "(ปรับจาก \"nan\" เป็น \"แน่นอนค่ะ\" เพื่อให้ถูกต้องตามบริบทและอ่านง่ายขึ้น)\n"
     ]
    },
    {
     "name": "stderr",
     "output_type": "stream",
     "text": [
      "Processing:  71%|███████▏  | 72/101 [01:03<00:20,  1.42it/s]"
     ]
    },
    {
     "name": "stdout",
     "output_type": "stream",
     "text": [
      "[256.75s - 256.78s] SPEAKER_00: แน่นอนครับ คำที่ถูกต้องและอ่านง่ายคือ:\n",
      "\n",
      "**แน่นอนครับ**\n"
     ]
    },
    {
     "name": "stderr",
     "output_type": "stream",
     "text": [
      "Processing:  72%|███████▏  | 73/101 [01:05<00:24,  1.15it/s]"
     ]
    },
    {
     "name": "stdout",
     "output_type": "stream",
     "text": [
      "[256.78s - 256.90s] SPEAKER_01: แน่นอนครับ คำตอบคือ:\n",
      "\n",
      "**แน่นอนครับ** \n",
      "\n",
      "(ปรับแก้จาก \"น\" เป็น \"แน่นอน\" เพื่อให้ถูกต้องตามหลักภาษาและอ่านง่ายขึ้น)\n"
     ]
    },
    {
     "name": "stderr",
     "output_type": "stream",
     "text": [
      "Processing:  73%|███████▎  | 74/101 [01:06<00:24,  1.09it/s]"
     ]
    },
    {
     "name": "stdout",
     "output_type": "stream",
     "text": [
      "[256.90s - 257.04s] SPEAKER_00: แน่นอนค่ะ คำที่ถูกต้องและอ่านง่ายคือ:\n",
      "\n",
      "**แน่นอนค่ะ** \n",
      "\n",
      "(ปรับจาก \"nan\" เป็น \"แน่นอนค่ะ\")\n"
     ]
    },
    {
     "name": "stderr",
     "output_type": "stream",
     "text": [
      "Processing:  74%|███████▍  | 75/101 [01:06<00:20,  1.29it/s]"
     ]
    },
    {
     "name": "stdout",
     "output_type": "stream",
     "text": [
      "[257.04s - 259.11s] SPEAKER_01: มาส่องตีอย่างนี้\n"
     ]
    },
    {
     "name": "stderr",
     "output_type": "stream",
     "text": [
      "Processing:  75%|███████▌  | 76/101 [01:06<00:15,  1.62it/s]"
     ]
    },
    {
     "name": "stdout",
     "output_type": "stream",
     "text": [
      "[259.65s - 259.94s] SPEAKER_01: ตาราง\n",
      "[260.56s - 260.58s] SPEAKER_01: [Transcription Error]\n"
     ]
    },
    {
     "name": "stderr",
     "output_type": "stream",
     "text": [
      "Processing:  77%|███████▋  | 78/101 [01:07<00:08,  2.60it/s]"
     ]
    },
    {
     "name": "stdout",
     "output_type": "stream",
     "text": [
      "[260.58s - 260.97s] SPEAKER_02: เขา\n"
     ]
    },
    {
     "name": "stderr",
     "output_type": "stream",
     "text": [
      "Processing:  79%|███████▉  | 80/101 [01:09<00:12,  1.70it/s]"
     ]
    },
    {
     "name": "stdout",
     "output_type": "stream",
     "text": [
      "[260.97s - 261.04s] SPEAKER_01: แน่นอนค่ะ คำที่ถูกต้องและอ่านง่ายคือ:\n",
      "\n",
      "**แน่นอนค่ะ** \n",
      "\n",
      "(เนื่องจาก \"nan\" มักจะถูกระบบ ASR เข้าใจผิดว่าเป็นคำว่า \"แน่นอน\" ซึ่งเป็นคำที่ใช้บ่อยในภาษาไทย)\n",
      "[261.04s - 261.69s] SPEAKER_02: ดัง\n"
     ]
    },
    {
     "name": "stderr",
     "output_type": "stream",
     "text": [
      "Processing:  80%|████████  | 81/101 [01:09<00:13,  1.52it/s]"
     ]
    },
    {
     "name": "stdout",
     "output_type": "stream",
     "text": [
      "[261.69s - 261.76s] SPEAKER_01: แน่นอนครับ แก้ไขข้อความให้ถูกต้องและอ่านง่ายดังนี้:\n",
      "\n",
      "**แน่นอนครับ**\n"
     ]
    },
    {
     "name": "stderr",
     "output_type": "stream",
     "text": [
      "Processing:  81%|████████  | 82/101 [01:10<00:12,  1.50it/s]"
     ]
    },
    {
     "name": "stdout",
     "output_type": "stream",
     "text": [
      "[261.76s - 261.83s] SPEAKER_02: แน่นอนครับ คำที่ถูกต้องและอ่านง่ายคือ:\n",
      "\n",
      "**แน่นอนครับ**\n"
     ]
    },
    {
     "name": "stderr",
     "output_type": "stream",
     "text": [
      "Processing:  82%|████████▏ | 83/101 [01:11<00:15,  1.15it/s]"
     ]
    },
    {
     "name": "stdout",
     "output_type": "stream",
     "text": [
      "[261.83s - 261.90s] SPEAKER_01: แน่นอนครับ คำตอบที่ถูกต้องคือ:\n",
      "\n",
      "**แน่นอนครับ** \n",
      "\n",
      "(ปรับแก้จาก \"nan\" เป็น \"แน่นอนครับ\" เพื่อให้เป็นคำที่สื่อความหมายและอ่านง่ายในภาษาไทย)\n"
     ]
    },
    {
     "name": "stderr",
     "output_type": "stream",
     "text": [
      "Processing:  83%|████████▎ | 84/101 [01:13<00:18,  1.09s/it]"
     ]
    },
    {
     "name": "stdout",
     "output_type": "stream",
     "text": [
      "[261.90s - 271.28s] SPEAKER_02: จนถึงถ้าท่านรักษานั้นทีละเดือนละท่าถูกปักปกดีการต่ำนับทอนบากและนัดพุ่งหมายุ่งท่านนิยมกีนะหาผู้\n"
     ]
    },
    {
     "name": "stderr",
     "output_type": "stream",
     "text": [
      "Processing:  84%|████████▍ | 85/101 [01:13<00:13,  1.19it/s]"
     ]
    },
    {
     "name": "stdout",
     "output_type": "stream",
     "text": [
      "[265.53s - 266.10s] SPEAKER_01: เมีย\n"
     ]
    },
    {
     "name": "stderr",
     "output_type": "stream",
     "text": [
      "Processing:  85%|████████▌ | 86/101 [01:14<00:12,  1.21it/s]"
     ]
    },
    {
     "name": "stdout",
     "output_type": "stream",
     "text": [
      "[267.16s - 267.79s] SPEAKER_01: วัน ช่ม ชัย \n",
      "\n",
      "(ปรับเว้นวรรคให้ถูกต้องตามที่ได้ยิน)\n"
     ]
    },
    {
     "name": "stderr",
     "output_type": "stream",
     "text": [
      "Processing:  86%|████████▌ | 87/101 [01:15<00:10,  1.32it/s]"
     ]
    },
    {
     "name": "stdout",
     "output_type": "stream",
     "text": [
      "[270.25s - 270.72s] SPEAKER_01: แน่นอนครับ คำที่ถูกต้องและอ่านง่ายคือ **แน่นอนครับ**\n"
     ]
    },
    {
     "name": "stderr",
     "output_type": "stream",
     "text": [
      "Processing:  87%|████████▋ | 88/101 [01:17<00:16,  1.29s/it]"
     ]
    },
    {
     "name": "stdout",
     "output_type": "stream",
     "text": [
      "[271.60s - 278.47s] SPEAKER_02: ฉันรู้สึกเจตนาทางน้ำอะโอ (น่าจะหมายถึงความรู้สึกบางอย่างที่เกิดขึ้นจากสถานการณ์)\n",
      "\n",
      "**คำอธิบาย:**\n",
      "\n",
      "*   **ศูต** แก้เป็น **รู้สึก** เพื่อให้ถูกต้องตามความหมาย\n",
      "*   คำอื่นๆ ในข้อความนั้นไม่มีความผิดเพี้ยนมากนัก แต่ปรับให้มีความเป็นธรรมชาติในการอ่านมากขึ้น\n"
     ]
    },
    {
     "name": "stderr",
     "output_type": "stream",
     "text": [
      "Processing:  88%|████████▊ | 89/101 [01:18<00:11,  1.01it/s]"
     ]
    },
    {
     "name": "stdout",
     "output_type": "stream",
     "text": [
      "[271.65s - 272.71s] SPEAKER_00: เกือบเห็นสวน\n"
     ]
    },
    {
     "name": "stderr",
     "output_type": "stream",
     "text": [
      "Processing:  90%|█████████ | 91/101 [01:18<00:05,  1.68it/s]"
     ]
    },
    {
     "name": "stdout",
     "output_type": "stream",
     "text": [
      "[272.71s - 272.92s] SPEAKER_01: ชิด\n",
      "[275.09s - 275.85s] SPEAKER_00: หา\n",
      "[278.62s - 278.64s] SPEAKER_02: [Transcription Error]\n"
     ]
    },
    {
     "name": "stderr",
     "output_type": "stream",
     "text": [
      "Processing:  92%|█████████▏| 93/101 [01:18<00:03,  2.41it/s]"
     ]
    },
    {
     "name": "stdout",
     "output_type": "stream",
     "text": [
      "[278.64s - 280.78s] SPEAKER_00: มีหกประเภทนะครับ\n"
     ]
    },
    {
     "name": "stderr",
     "output_type": "stream",
     "text": [
      "Processing:  93%|█████████▎| 94/101 [01:19<00:03,  2.07it/s]"
     ]
    },
    {
     "name": "stdout",
     "output_type": "stream",
     "text": [
      "[279.75s - 284.63s] SPEAKER_02: อยู่ประเภทนะครับ ไม้คลิงนี้อาบ ครับ\n"
     ]
    },
    {
     "name": "stderr",
     "output_type": "stream",
     "text": [
      "Processing:  94%|█████████▍| 95/101 [01:19<00:02,  2.13it/s]"
     ]
    },
    {
     "name": "stdout",
     "output_type": "stream",
     "text": [
      "[282.92s - 284.22s] SPEAKER_00: หมายถึงนี้อาบ\n"
     ]
    },
    {
     "name": "stderr",
     "output_type": "stream",
     "text": [
      "Processing:  95%|█████████▌| 96/101 [01:21<00:04,  1.20it/s]"
     ]
    },
    {
     "name": "stdout",
     "output_type": "stream",
     "text": [
      "[284.83s - 288.12s] SPEAKER_02: ทีวีพูนมาเกิดแอมโฮไสในอามขัยนั่อนนสอ \n",
      "\n",
      "(แก้ไข: เปลี่ยน \"ในามขัยนั่อนนสอ\" เป็น \"ในอามขัย\")\n"
     ]
    },
    {
     "name": "stderr",
     "output_type": "stream",
     "text": [
      "Processing:  96%|█████████▌| 97/101 [01:22<00:03,  1.22it/s]"
     ]
    },
    {
     "name": "stdout",
     "output_type": "stream",
     "text": [
      "[285.37s - 293.76s] SPEAKER_01: แหม ที่ไหนหิน้านสาจะ โพลอะไรในเรื่องนี้\n"
     ]
    },
    {
     "name": "stderr",
     "output_type": "stream",
     "text": [
      "Processing:  97%|█████████▋| 98/101 [01:23<00:02,  1.15it/s]"
     ]
    },
    {
     "name": "stdout",
     "output_type": "stream",
     "text": [
      "[289.37s - 290.48s] SPEAKER_00: ผิด สนก \n",
      "\n",
      "(ปรับแก้จาก \"ผิดสนก\" ซึ่งเป็นคำที่เข้าใจได้และถูกต้องตามหลักภาษา)\n"
     ]
    },
    {
     "name": "stderr",
     "output_type": "stream",
     "text": [
      "Processing:  98%|█████████▊| 99/101 [01:24<00:01,  1.30it/s]"
     ]
    },
    {
     "name": "stdout",
     "output_type": "stream",
     "text": [
      "[290.91s - 294.80s] SPEAKER_00: และพบปัญหาในเครื่องนี้ไม่มีครับ\n"
     ]
    },
    {
     "name": "stderr",
     "output_type": "stream",
     "text": [
      "Processing:  99%|█████████▉| 100/101 [01:25<00:00,  1.06it/s]"
     ]
    },
    {
     "name": "stdout",
     "output_type": "stream",
     "text": [
      "[294.47s - 294.57s] SPEAKER_01: แน่นอนครับ คำตอบคือ:\n",
      "\n",
      "**แน่นอนครับ** \n",
      "\n",
      "(ปรับแก้จาก \"nan\" เป็น \"แน่นอนครับ\" ซึ่งเป็นคำที่ใช้บ่อยและมีความหมายชัดเจน)\n"
     ]
    },
    {
     "name": "stderr",
     "output_type": "stream",
     "text": [
      "Processing: 100%|██████████| 101/101 [01:26<00:00,  1.17it/s]"
     ]
    },
    {
     "name": "stdout",
     "output_type": "stream",
     "text": [
      "[294.80s - 299.97s] SPEAKER_01: ป้อนของสลัดใสในทีวีของคุณที่มีมาสาบานในโลก\n",
      "\n",
      "✅ Cleaned transcript saved to: cleaned_transcript.csv\n"
     ]
    },
    {
     "name": "stderr",
     "output_type": "stream",
     "text": [
      "\n"
     ]
    }
   ],
   "source": [
    "import pandas as pd\n",
    "import re\n",
    "from ollama import Client\n",
    "from tqdm import tqdm\n",
    "\n",
    "# Load CSV\n",
    "df = pd.read_csv(\"transcript.csv\")\n",
    "\n",
    "# Set up Ollama client\n",
    "ollama_client = Client(host='http://localhost:11434')\n",
    "# OLLAMA_MODEL = \"qwen3:4b\"\n",
    "OLLAMA_MODEL = \"gemma3:4b\"\n",
    "\n",
    "# Regex cleaning (basic Thai spacing fix)\n",
    "def clean_thai_text_regex(text):\n",
    "    if not isinstance(text, str) or text.strip() == \"\":\n",
    "        return text\n",
    "    text = re.sub(r'(?<=[\\u0E00-\\u0E7F])\\s+(?=[\\u0E00-\\u0E7F])', '', text)\n",
    "    text = re.sub(r'\\s+', ' ', text).strip()\n",
    "    return text\n",
    "\n",
    "# Deep cleaning with Ollama\n",
    "def clean_thai_with_ollama(text, model=OLLAMA_MODEL):\n",
    "    if not isinstance(text, str) or text.strip() == \"\":\n",
    "        return text\n",
    "\n",
    "    prompt = f\"\"\"\\\n",
    "คุณคือเครื่องมือช่วยแก้ไขข้อความจากระบบรู้จำเสียงพูดภาษาไทย (ASR)\n",
    "ต่อไปนี้คือข้อความที่อาจมีการเว้นวรรคผิดหรือคำผิด:\n",
    "\"{text}\"\n",
    "กรุณาปรับให้ถูกต้องและอ่านง่ายโดยไม่แปลเป็นภาษาอังกฤษ\n",
    "\n",
    "เฉลย:\"\"\"\n",
    "\n",
    "    try:\n",
    "        response = ollama_client.chat(\n",
    "            model=model,\n",
    "            messages=[{\"role\": \"user\", \"content\": prompt}]\n",
    "        )\n",
    "        return response['message']['content'].strip()\n",
    "    except Exception as e:\n",
    "        print(f\"[❌ Ollama Error] '{text}' -> {e}\")\n",
    "        return text\n",
    "\n",
    "# Add progress bar and cleaning loop\n",
    "cleaned_texts = []\n",
    "\n",
    "print(\"🧹 Cleaning transcript with Ollama...\\n\")\n",
    "for i, row in tqdm(df.iterrows(), total=len(df), desc=\"Processing\"):\n",
    "    raw_text = str(row['text']).strip()\n",
    "\n",
    "    if raw_text == \"\" or raw_text.lower() == \"[transcription error]\":\n",
    "        cleaned_texts.append(raw_text)\n",
    "        print(f\"[{row['start']:.2f}s - {row['end']:.2f}s] {row['speaker']}: {raw_text}\")\n",
    "        continue\n",
    "\n",
    "    # Step 1: regex clean\n",
    "    basic_clean = clean_thai_text_regex(raw_text)\n",
    "\n",
    "    # Step 2: use Ollama for final cleanup\n",
    "    cleaned = clean_thai_with_ollama(basic_clean)\n",
    "\n",
    "    cleaned_texts.append(cleaned)\n",
    "\n",
    "    # Print cleaned result to console\n",
    "    print(f\"[{row['start']:.2f}s - {row['end']:.2f}s] {row['speaker']}: {cleaned}\")\n",
    "\n",
    "# Save new column to CSV\n",
    "df['cleaned_text'] = cleaned_texts\n",
    "df.to_csv(\"cleaned_transcript.csv\", index=False, encoding='utf-8')\n",
    "\n",
    "print(\"\\n✅ Cleaned transcript saved to: cleaned_transcript.csv\")\n"
   ]
  }
 ],
 "metadata": {
  "kernelspec": {
   "display_name": "ktb",
   "language": "python",
   "name": "python3"
  },
  "language_info": {
   "codemirror_mode": {
    "name": "ipython",
    "version": 3
   },
   "file_extension": ".py",
   "mimetype": "text/x-python",
   "name": "python",
   "nbconvert_exporter": "python",
   "pygments_lexer": "ipython3",
   "version": "3.10.18"
  }
 },
 "nbformat": 4,
 "nbformat_minor": 5
}
